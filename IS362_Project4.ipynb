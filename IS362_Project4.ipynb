{
 "cells": [
  {
   "cell_type": "markdown",
   "metadata": {},
   "source": [
    "Import modules as needed "
   ]
  },
  {
   "cell_type": "code",
   "execution_count": 24,
   "metadata": {},
   "outputs": [],
   "source": [
    "import pandas as pd\n",
    "import sklearn.model_selection\n",
    "import sklearn.linear_model\n",
    "from sklearn import metrics\n",
    "import numpy as np"
   ]
  },
  {
   "cell_type": "markdown",
   "metadata": {},
   "source": [
    "Load mushrooms dataset that was used from that you constructed in your\n",
    "“Assignment – Preprocessing Data with sci-kit learn.”"
   ]
  },
  {
   "cell_type": "code",
   "execution_count": 25,
   "metadata": {},
   "outputs": [],
   "source": [
    "mushrooms = pd.read_csv('https://archive.ics.uci.edu/ml/machine-learning-databases/mushroom/agaricus-lepiota.data',\n",
    "                        sep=',', header=None, usecols=[0,1,3,5], names=[\"Edible\",\"Cap_Shape\",\"Cap_Color\",\"Odor\"])"
   ]
  },
  {
   "cell_type": "markdown",
   "metadata": {},
   "source": [
    "Replace letter values from data with numeric values "
   ]
  },
  {
   "cell_type": "code",
   "execution_count": 26,
   "metadata": {},
   "outputs": [],
   "source": [
    "mushrooms.replace(to_replace={\"Edible\":{'p': 1, 'e': 0}}, inplace=True)\n",
    "mushrooms.replace(to_replace={\"Cap_Shape\":{'b': 0, 'c': 1, 'x': 2, 'f': 3, 'k': 4, 's': 5}}, inplace=True)\n",
    "mushrooms.replace(to_replace={'Cap_Color':{'n':0, 'b':1, 'c':2, 'g':3, 'r':4, 'p':5, 'u':6, 'e':7, 'w':8, 'y':9}}, inplace=True)\n",
    "mushrooms.replace(to_replace={'Odor':{'a':0, 'l':1, 'c':2, 'y':3, 'f':4, 'm':5, 'n':6, 'p':7, 's':8}}, inplace=True)"
   ]
  },
  {
   "cell_type": "markdown",
   "metadata": {},
   "source": [
    "Create variables to use for analysis - we will be comparing odor, cap color and shape "
   ]
  },
  {
   "cell_type": "code",
   "execution_count": 27,
   "metadata": {},
   "outputs": [],
   "source": [
    "odor = pd.Series(mushrooms['Odor'])\n",
    "o = pd.get_dummies(odor)\n",
    "\n",
    "color = pd.Series(mushrooms['Cap_Color'])\n",
    "c = pd.get_dummies(color)\n",
    "\n",
    "shape = pd.Series(mushrooms['Cap_Shape'])\n",
    "s = pd.get_dummies(shape)"
   ]
  },
  {
   "cell_type": "markdown",
   "metadata": {},
   "source": [
    "Combine these columns with variables above and create a new variable for edible"
   ]
  },
  {
   "cell_type": "code",
   "execution_count": 28,
   "metadata": {},
   "outputs": [],
   "source": [
    "mushrooms2 = pd.concat([o, c, s, mushrooms['Edible']], axis=1)\n",
    "cols = list(mushrooms2.iloc[:, :-1])"
   ]
  },
  {
   "cell_type": "markdown",
   "metadata": {},
   "source": [
    "Set values for x and y , setup training models"
   ]
  },
  {
   "cell_type": "code",
   "execution_count": 29,
   "metadata": {},
   "outputs": [],
   "source": [
    "X = mushrooms2.iloc[:, :-1].values\n",
    "Y = mushrooms2.iloc[:, 1].values\n",
    "\n",
    "X_train, X_test, Y_train, Y_test = sklearn.model_selection.train_test_split(X, Y, random_state=1)"
   ]
  },
  {
   "cell_type": "markdown",
   "metadata": {},
   "source": [
    "Implement linear regression for prediction and to create true/predicted response values"
   ]
  },
  {
   "cell_type": "code",
   "execution_count": 30,
   "metadata": {},
   "outputs": [
    {
     "name": "stdout",
     "output_type": "stream",
     "text": [
      "0.0\n",
      "0.0\n",
      "0.0\n"
     ]
    }
   ],
   "source": [
    "linreg = sklearn.linear_model.LinearRegression()\n",
    "linreg.fit(X_train, Y_train)\n",
    "Y_pred = linreg.predict(X_test)\n",
    "t = [1, 0]\n",
    "p = [1, 0]\n",
    "\n",
    "print(sklearn.metrics.mean_absolute_error(t, p))\n",
    "print(sklearn.metrics.mean_squared_error(t, p))\n",
    "print(np.sqrt(sklearn.metrics.mean_squared_error(t, p)))"
   ]
  },
  {
   "cell_type": "markdown",
   "metadata": {},
   "source": [
    "Calculate margin of error"
   ]
  },
  {
   "cell_type": "code",
   "execution_count": 35,
   "metadata": {},
   "outputs": [
    {
     "name": "stdout",
     "output_type": "stream",
     "text": [
      "3.4926249039858013e-16\n"
     ]
    }
   ],
   "source": [
    "print(np.sqrt(metrics.mean_squared_error(Y_test, Y_pred)))"
   ]
  },
  {
   "cell_type": "markdown",
   "metadata": {},
   "source": [
    "Remove variables individualle to see which is most important for determining edibility -\n",
    "start with odor"
   ]
  },
  {
   "cell_type": "code",
   "execution_count": 36,
   "metadata": {},
   "outputs": [
    {
     "name": "stdout",
     "output_type": "stream",
     "text": [
      "0.2132427638169686\n"
     ]
    }
   ],
   "source": [
    "X = mushrooms2.iloc[:, 5:6].values\n",
    "Y = mushrooms2.iloc[:, 1].values\n",
    "\n",
    "X_train, X_test, Y_train, Y_test = sklearn.model_selection.train_test_split(X, Y, random_state=1)\n",
    "linreg.fit(X_train, Y_train)\n",
    "Y_pred = linreg.predict(X_test)\n",
    "print(np.sqrt(metrics.mean_squared_error(Y_test, Y_pred)))"
   ]
  },
  {
   "cell_type": "markdown",
   "metadata": {},
   "source": [
    "Remove cap color"
   ]
  },
  {
   "cell_type": "code",
   "execution_count": 37,
   "metadata": {},
   "outputs": [
    {
     "name": "stdout",
     "output_type": "stream",
     "text": [
      "0.21275792048340464\n"
     ]
    }
   ],
   "source": [
    "X = mushrooms2.iloc[:, 3:4].values\n",
    "Y = mushrooms2.iloc[:, 1].values\n",
    "\n",
    "X_train, X_test, Y_train, Y_test = sklearn.model_selection.train_test_split(X, Y, random_state=1)\n",
    "linreg.fit(X_train, Y_train)\n",
    "Y_pred = linreg.predict(X_test)\n",
    "print(np.sqrt(metrics.mean_squared_error(Y_test, Y_pred)))"
   ]
  },
  {
   "cell_type": "markdown",
   "metadata": {},
   "source": [
    "Remove cap shape "
   ]
  },
  {
   "cell_type": "code",
   "execution_count": 38,
   "metadata": {},
   "outputs": [
    {
     "name": "stdout",
     "output_type": "stream",
     "text": [
      "3.4926249039858013e-16\n"
     ]
    }
   ],
   "source": [
    "X = mushrooms2.iloc[:, 1:2].values\n",
    "Y = mushrooms2.iloc[:, 1].values\n",
    "\n",
    "X_train, X_test, Y_train, Y_test = sklearn.model_selection.train_test_split(X, Y, random_state=1)\n",
    "linreg.fit(X_train, Y_train)\n",
    "Y_pred = linreg.predict(X_test)\n",
    "print(np.sqrt(metrics.mean_squared_error(Y_test, Y_pred)))"
   ]
  },
  {
   "cell_type": "markdown",
   "metadata": {},
   "source": [
    "Looking at these results, cap shape would be least useful for predicting edibility while odor and cap color are\n",
    "similar in their margin of error. I would say a combination of both would be most useful with odor itself being \n",
    "the best indicator based on these results. "
   ]
  }
 ],
 "metadata": {
  "kernelspec": {
   "display_name": "Python 3",
   "language": "python",
   "name": "python3"
  },
  "language_info": {
   "codemirror_mode": {
    "name": "ipython",
    "version": 3
   },
   "file_extension": ".py",
   "mimetype": "text/x-python",
   "name": "python",
   "nbconvert_exporter": "python",
   "pygments_lexer": "ipython3",
   "version": "3.7.3"
  }
 },
 "nbformat": 4,
 "nbformat_minor": 2
}
